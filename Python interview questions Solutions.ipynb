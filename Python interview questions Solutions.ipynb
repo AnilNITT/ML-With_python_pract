{
 "cells": [
  {
   "cell_type": "markdown",
   "metadata": {},
   "source": [
    "### Q1. What will be the output of the code below? Explain your answer."
   ]
  },
  {
   "cell_type": "code",
   "execution_count": 2,
   "metadata": {},
   "outputs": [
    {
     "name": "stdout",
     "output_type": "stream",
     "text": [
      "list1 = [10, 'a']\n",
      "list2 = [123]\n",
      "list3 = [10, 'a']\n"
     ]
    }
   ],
   "source": [
    "def extendList(val, list=[]):\n",
    "    list.append(val)\n",
    "    return list\n",
    "\n",
    "list1 = extendList(10)      # add elemtns into empty list now list=[10]\n",
    "list2 = extendList(123,[])  # pass an empty list for new elemnts bcoz we have already 10 in list so we can add this elemnts into new empty list , now list=[123]\n",
    "list3 = extendList('a')     # now we extend the element list by 'a' add to list , its effect only list1 now out list=[10,a]\n",
    "\n",
    "print(\"list1 = %s\" % list1)\n",
    "print(\"list2 = %s\" % list2)\n",
    "print(\"list3 = %s\" % list3)"
   ]
  },
  {
   "cell_type": "markdown",
   "metadata": {},
   "source": [
    "### How would you modify the definition of extendList to produce the presumably desired behavior?"
   ]
  },
  {
   "cell_type": "code",
   "execution_count": 2,
   "metadata": {},
   "outputs": [
    {
     "name": "stdout",
     "output_type": "stream",
     "text": [
      "list1 = [10]\n",
      "list2 = [123]\n",
      "list3 = ['a']\n"
     ]
    }
   ],
   "source": [
    "def extendList(val,list=None):   # always got an empty list for each ty, function call\n",
    "    if list is None:\n",
    "        list=[]\n",
    "    list.append(val)\n",
    "    return list\n",
    "\n",
    "list1 = extendList(10)\n",
    "list2 = extendList(123,[])\n",
    "list3 = extendList('a')\n",
    "\n",
    "print(\"list1 = %s\" % list1)\n",
    "print(\"list2 = %s\" % list2)\n",
    "print(\"list3 = %s\" % list3)"
   ]
  },
  {
   "cell_type": "markdown",
   "metadata": {},
   "source": [
    "### Q2. What will be the output of the code below? Explain your answer."
   ]
  },
  {
   "cell_type": "code",
   "execution_count": 8,
   "metadata": {},
   "outputs": [
    {
     "name": "stdout",
     "output_type": "stream",
     "text": [
      "[9, 9, 9, 9]\n"
     ]
    }
   ],
   "source": [
    "def multipliers():\n",
    "  return [lambda x : i * x for i in range(4)]\n",
    "    \n",
    "#print([m(3)])  # in m(3) we are passing value x=3 in lambda function  # u got only [9] bcoz we call lambda function but out function is not executed till last bcoz of closure late binding, at the \n",
    "                # at i=0,1,2 our function return bcoz out for loop is running, but at the last i=3, lambda perfrom all the operations so we got same value\n",
    "print([m(3) for m in multipliers()])  # we calling multipliers function 4 times bcoz out range is 4"
   ]
  },
  {
   "cell_type": "markdown",
   "metadata": {},
   "source": [
    "### How would you modify the definition of multipliers to produce the presumably desired behavior?"
   ]
  },
  {
   "cell_type": "code",
   "execution_count": 14,
   "metadata": {},
   "outputs": [
    {
     "name": "stdout",
     "output_type": "stream",
     "text": [
      "[0, 3, 6, 9]\n"
     ]
    }
   ],
   "source": [
    "def multipliers():\n",
    "      for i in range(4):\n",
    "            yield lambda x:i*x  # we return again to function call till out loop is not done\n",
    "# \n",
    "print([m(3) for m in multipliers()])"
   ]
  },
  {
   "cell_type": "markdown",
   "metadata": {},
   "source": [
    "### Q3. What will be the output of the code below? Explain your answer."
   ]
  },
  {
   "cell_type": "code",
   "execution_count": 24,
   "metadata": {},
   "outputs": [
    {
     "name": "stdout",
     "output_type": "stream",
     "text": [
      "1 1 1\n",
      "1 2 1\n",
      "3 2 3\n"
     ]
    }
   ],
   "source": [
    "class Parent(object):\n",
    "    x = 1\n",
    "\n",
    "class Child1(Parent):\n",
    "    pass\n",
    "\n",
    "class Child2(Parent):\n",
    "    pass\n",
    "\n",
    "print(Parent.x, Child1.x, Child2.x) # child1, child2 inherited x value from parent,\n",
    "Child1.x = 2\n",
    "print(Parent.x, Child1.x, Child2.x) # child1 have its onw x value, child2 again inherit the value from parent\n",
    "Parent.x = 3\n",
    "print(Parent.x, Child1.x, Child2.x) # child1, have own x value,child2 again inherit x value from parent"
   ]
  },
  {
   "cell_type": "code",
   "execution_count": null,
   "metadata": {},
   "outputs": [],
   "source": []
  },
  {
   "cell_type": "markdown",
   "metadata": {},
   "source": [
    "### Q4. What will be the output of the code below in Python 3? Explain your answer."
   ]
  },
  {
   "cell_type": "code",
   "execution_count": 15,
   "metadata": {},
   "outputs": [
    {
     "name": "stdout",
     "output_type": "stream",
     "text": [
      "5/2 = 2.5\n",
      "5.0/2 = 2.5\n",
      "5//2 = 2\n",
      "5.0//2.0 = 2.0\n"
     ]
    }
   ],
   "source": [
    "def div1(x,y):\n",
    "    print(\"%s/%s = %s\" % (x, y, x/y))\n",
    "    \n",
    "def div2(x,y):\n",
    "    print(\"%s//%s = %s\" % (x, y, x//y))\n",
    "\n",
    "# this is formatting\n",
    "div1(5,2) # pass to div1() fun, according to formatting, 1st parameter assign to x, 2nd parmtr to y, x=5,y=2\n",
    "div1(5.,2) # x=5. , y=2,  x/y=5./2=2.5\n",
    "div2(5,2)  # x=5,y=2 ,x//y=5//2=2\n",
    "div2(5.,2.)"
   ]
  },
  {
   "cell_type": "markdown",
   "metadata": {},
   "source": [
    "### Also, how would the answer differ in Python 3 (assuming, of course, that the above print statements were converted to Python 3 syntax)?"
   ]
  },
  {
   "cell_type": "code",
   "execution_count": null,
   "metadata": {},
   "outputs": [],
   "source": [
    "# both have same output"
   ]
  },
  {
   "cell_type": "markdown",
   "metadata": {},
   "source": [
    "### Q5. What will be the output of the code below?"
   ]
  },
  {
   "cell_type": "code",
   "execution_count": 30,
   "metadata": {},
   "outputs": [
    {
     "name": "stdout",
     "output_type": "stream",
     "text": [
      "[]\n"
     ]
    }
   ],
   "source": [
    "list = ['a', 'b', 'c', 'd', 'e']\n",
    "print(list[10:])  "
   ]
  },
  {
   "cell_type": "markdown",
   "metadata": {},
   "source": [
    "#  Ans : [] \n",
    "#### bcoz our list range is only (5) , we given 10th index to last index, so not found elemnts at this index so got empty list"
   ]
  },
  {
   "cell_type": "code",
   "execution_count": null,
   "metadata": {},
   "outputs": [],
   "source": []
  },
  {
   "cell_type": "markdown",
   "metadata": {},
   "source": [
    "### Q6. Consider the following code snippet:\n"
   ]
  },
  {
   "cell_type": "code",
   "execution_count": 46,
   "metadata": {},
   "outputs": [
    {
     "data": {
      "text/plain": [
       "[[10, 20], [10, 20], [10, 20], [10, 20], [10, 20], 30]"
      ]
     },
     "execution_count": 46,
     "metadata": {},
     "output_type": "execute_result"
    }
   ],
   "source": [
    "list=[[ ]]*5   # multiply by 5 so empty list is list=[[],[],[],[],[]]\n",
    "list  # output?  # 1st tym it is no elemnts there  list=[[],[],[],[],[]]\n",
    "list[0].append(10)  # we add elemnts 10 at 0 index list=[[10],[10],[10],[10],[10]]\n",
    "list  # output?     \n",
    "list[1].append(20)  # now we add another elmnts at 1 index 20 list=[[10,20],[10,20],[10,20],[10,20],[10,20]]\n",
    "list  # output?\n",
    "list.append(30)  # not given any index , so add into at the last of the list not in nested list\n",
    "list  # output?"
   ]
  },
  {
   "cell_type": "markdown",
   "metadata": {},
   "source": [
    "### What will be the ouput of lines 2, 4, 6, and 8? Explain your answer."
   ]
  },
  {
   "cell_type": "markdown",
   "metadata": {},
   "source": [
    "##### 2line.# multiply by 5 to a empty list, so empty list is list=[[],[],[],[],[]]\n",
    "##### 4line.# we add elemnts (10) at 0 index, bcoz all nested list have 0 index so, list=[[10],[10],[10],[10],[10]]\n",
    "##### 6line.# now we add (20) elemnets at 1 index 20, so all sublist have 1 index so, list=[[10,20],[10,20],[10,20],[10,20],[10,20]]\n",
    "##### 8line.# not given any index , so add (30) into at the last of the list not in all sublist list=[[10, 20], [10, 20], [10, 20], [10, 20], [10, 20], 30]"
   ]
  },
  {
   "cell_type": "markdown",
   "metadata": {},
   "source": [
    "### Q7. Given a list of N numbers, use a single list comprehension to produce a new list that only contains those values that are:\n",
    "#### (a) even numbers, and\n",
    "#### (b) from elements in the original list that had even indices"
   ]
  },
  {
   "cell_type": "markdown",
   "metadata": {},
   "source": [
    "### For example, if list[2] contains a value that is even, that value should be included in the new list, since it is also at an even index (i.e., 2) in the original list. However, if list[3] contains an even number, that number should not be included in the new list since it is at an odd index (i.e., 3) in the original list."
   ]
  },
  {
   "cell_type": "code",
   "execution_count": 18,
   "metadata": {},
   "outputs": [
    {
     "name": "stdout",
     "output_type": "stream",
     "text": [
      "[2, 4, 6, 8, 10, 12, 14, 16, 18, 20, 22, 24, 26, 28, 30]\n",
      "[2, 6, 10, 14, 18, 22, 26, 30]\n"
     ]
    }
   ],
   "source": [
    "# (A) even numbers,\n",
    "y=[x for x in range(1,31) if x%2==0]\n",
    "print(y)\n",
    "\n",
    "# (B) from elements in the original list that had even indices # we taken y as original list n print even indexing values\n",
    "z=[i for i in y[::2] if i%2==0]\n",
    "print(z)"
   ]
  },
  {
   "cell_type": "markdown",
   "metadata": {},
   "source": [
    "### Q8. Given the following subclass of dictionary:"
   ]
  },
  {
   "cell_type": "code",
   "execution_count": 25,
   "metadata": {},
   "outputs": [],
   "source": [
    "class DefaultDict(dict):\n",
    "  def __missing__(self, key):\n",
    "       a=[]\n",
    "       self[key]=a\n",
    "       return []"
   ]
  },
  {
   "cell_type": "markdown",
   "metadata": {},
   "source": [
    "### Will the code below work? Why or why not?"
   ]
  },
  {
   "cell_type": "code",
   "execution_count": 30,
   "metadata": {},
   "outputs": [
    {
     "name": "stdout",
     "output_type": "stream",
     "text": [
      "{'florp': 127}\n"
     ]
    }
   ],
   "source": [
    "d = DefaultDict() # jst creat object of class\n",
    "# if we only pass key function return empty dictionary bcoz key required value\n",
    "d['florp']=127 # work bcoz we pass a key['florp'] with value \"127\" to the function  __missing__()\n",
    "print(d)"
   ]
  },
  {
   "cell_type": "code",
   "execution_count": 29,
   "metadata": {},
   "outputs": [
    {
     "name": "stdout",
     "output_type": "stream",
     "text": [
      "{'hii': 25}\n"
     ]
    }
   ],
   "source": [
    "# calling with only key\n",
    "class DefaultDict(dict):\n",
    "  def __missing__(self, key):\n",
    "       a=[]   # bydefault key \"[]\", if not assign any value at function passing time\n",
    "       self[key]=a\n",
    "       return []\n",
    "\n",
    "d = DefaultDict()\n",
    "d[\"hii\"]\n",
    "print(d)"
   ]
  },
  {
   "cell_type": "markdown",
   "metadata": {},
   "source": [
    "### Q9. How would you unit-test the following code?"
   ]
  },
  {
   "cell_type": "code",
   "execution_count": 24,
   "metadata": {},
   "outputs": [],
   "source": [
    "async def logs(cont, name):\n",
    "    conn = aiohttp.UnixConnector(path=\"/var/run/docker.sock\")\n",
    "    async with aiohttp.ClientSession(connector=conn) as session:\n",
    "        async with session.get(f\"http://xx/containers/{cont}/logs?follow=1&stdout=1\") as resp:\n",
    "            async for line in resp.content:\n",
    "                print(name, line)"
   ]
  },
  {
   "cell_type": "code",
   "execution_count": 34,
   "metadata": {},
   "outputs": [],
   "source": []
  },
  {
   "cell_type": "markdown",
   "metadata": {},
   "source": [
    "### Q10. How do you list the functions in a module?"
   ]
  },
  {
   "cell_type": "code",
   "execution_count": 35,
   "metadata": {},
   "outputs": [
    {
     "name": "stdout",
     "output_type": "stream",
     "text": [
      "['__doc__', '__loader__', '__name__', '__package__', '__spec__', 'acos', 'acosh', 'asin', 'asinh', 'atan', 'atan2', 'atanh', 'ceil', 'copysign', 'cos', 'cosh', 'degrees', 'e', 'erf', 'erfc', 'exp', 'expm1', 'fabs', 'factorial', 'floor', 'fmod', 'frexp', 'fsum', 'gamma', 'gcd', 'hypot', 'inf', 'isclose', 'isfinite', 'isinf', 'isnan', 'ldexp', 'lgamma', 'log', 'log10', 'log1p', 'log2', 'modf', 'nan', 'pi', 'pow', 'radians', 'remainder', 'sin', 'sinh', 'sqrt', 'tan', 'tanh', 'tau', 'trunc']\n"
     ]
    }
   ],
   "source": [
    "import math\n",
    "print(dir(math))"
   ]
  },
  {
   "cell_type": "markdown",
   "metadata": {},
   "source": [
    "### Q11. Write a function that prints the least integer that is not present in a given list and cannot be represented by the summation of the sub-elements of the list."
   ]
  },
  {
   "cell_type": "markdown",
   "metadata": {},
   "source": [
    "### E.g. For a = [1,2,5,7] the least integer not represented by the list or a slice of the list is 4, and if a = [1,2,2,5,7] then the least non-representable integer is 18."
   ]
  },
  {
   "cell_type": "code",
   "execution_count": null,
   "metadata": {},
   "outputs": [],
   "source": []
  }
 ],
 "metadata": {
  "kernelspec": {
   "display_name": "Python 3",
   "language": "python",
   "name": "python3"
  },
  "language_info": {
   "codemirror_mode": {
    "name": "ipython",
    "version": 3
   },
   "file_extension": ".py",
   "mimetype": "text/x-python",
   "name": "python",
   "nbconvert_exporter": "python",
   "pygments_lexer": "ipython3",
   "version": "3.7.4"
  }
 },
 "nbformat": 4,
 "nbformat_minor": 4
}
