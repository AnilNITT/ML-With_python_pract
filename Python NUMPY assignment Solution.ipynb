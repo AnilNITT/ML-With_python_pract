{
 "cells": [
  {
   "cell_type": "markdown",
   "metadata": {},
   "source": [
    "# -----*******[ PYTHON NUMPY Assignment Solution ]*******------\n",
    "=============================================================================================================="
   ]
  },
  {
   "cell_type": "markdown",
   "metadata": {},
   "source": [
    "## 1. Which of the following statement is true? "
   ]
  },
  {
   "cell_type": "markdown",
   "metadata": {},
   "source": [
    "### a. python is a high level programming language\n",
    "### b. python is a interpreted language\n",
    "### c. python is an object-oriented language\n",
    "### d. All of the above"
   ]
  },
  {
   "cell_type": "markdown",
   "metadata": {},
   "source": [
    "##  Ans(1) = All of the above"
   ]
  },
  {
   "cell_type": "code",
   "execution_count": null,
   "metadata": {},
   "outputs": [],
   "source": []
  },
  {
   "cell_type": "markdown",
   "metadata": {},
   "source": [
    "## 2. What is used to define a block of code(body of loop, function etc.) in python? "
   ]
  },
  {
   "cell_type": "markdown",
   "metadata": {},
   "source": [
    "### a. Curly braces\n",
    "### b. parenthesis\n",
    "### c. indentation\n",
    "### d.quotation"
   ]
  },
  {
   "cell_type": "markdown",
   "metadata": {},
   "source": [
    "## Ans(2)= Indentation"
   ]
  },
  {
   "cell_type": "code",
   "execution_count": null,
   "metadata": {},
   "outputs": [],
   "source": []
  },
  {
   "cell_type": "markdown",
   "metadata": {},
   "source": [
    "## 3. Which of the following is Correct?"
   ]
  },
  {
   "cell_type": "markdown",
   "metadata": {},
   "source": [
    "### a. Comments are for programmers for better understanding of the program\n",
    "### b. python interpreter ignores comment\n",
    "### c. you can wrtie multi-line comments in python using triple quotes,eithere ''' or \"\"\"\n",
    "### d. All of above"
   ]
  },
  {
   "cell_type": "markdown",
   "metadata": {},
   "source": [
    "## Ans(3)= All of above "
   ]
  },
  {
   "cell_type": "code",
   "execution_count": null,
   "metadata": {},
   "outputs": [],
   "source": []
  },
  {
   "cell_type": "markdown",
   "metadata": {},
   "source": [
    "## 4. Which of the following is Correct?"
   ]
  },
  {
   "cell_type": "markdown",
   "metadata": {},
   "source": [
    "### a. variable name can start with an underscore\n",
    "### b. variable name can start with digit\n",
    "### c. keywords can not be used as a variable name\n",
    "### d. variable names can have symbol like: @,#,$ etc"
   ]
  },
  {
   "cell_type": "markdown",
   "metadata": {},
   "source": [
    "## Ans(4)=  variable name can start with an underscore"
   ]
  },
  {
   "cell_type": "code",
   "execution_count": null,
   "metadata": {},
   "outputs": [],
   "source": []
  },
  {
   "cell_type": "markdown",
   "metadata": {},
   "source": [
    "## 5. In the following code, 'n' is a/an ___ ?\n",
    "### n='5'"
   ]
  },
  {
   "cell_type": "markdown",
   "metadata": {},
   "source": [
    "### a. Integer\n",
    "### b. String\n",
    "### c. Tuple\n",
    "### d. operator"
   ]
  },
  {
   "cell_type": "markdown",
   "metadata": {},
   "source": [
    "## Ans(5) : String"
   ]
  },
  {
   "cell_type": "code",
   "execution_count": null,
   "metadata": {},
   "outputs": [],
   "source": []
  },
  {
   "cell_type": "markdown",
   "metadata": {},
   "source": [
    "## 6. What is the output of the following code\n",
    "### print(1,2,3,4,sep='#')"
   ]
  },
  {
   "cell_type": "markdown",
   "metadata": {},
   "source": [
    "### a. 1 2 3 4\n",
    "### b. 1234\n",
    "### c. 1#2#3#4\n",
    "### d. 24"
   ]
  },
  {
   "cell_type": "markdown",
   "metadata": {},
   "source": [
    "## Ans(6)=    1#2#3#4 "
   ]
  },
  {
   "cell_type": "code",
   "execution_count": null,
   "metadata": {},
   "outputs": [],
   "source": []
  },
  {
   "cell_type": "markdown",
   "metadata": {},
   "source": [
    "## 7. What is used to take input from the user in python?"
   ]
  },
  {
   "cell_type": "markdown",
   "metadata": {},
   "source": [
    "### a. cin\n",
    "### b. scanf()\n",
    "### c. input()\n",
    "### d. <>"
   ]
  },
  {
   "cell_type": "markdown",
   "metadata": {},
   "source": [
    "## Ans(7)= input()"
   ]
  },
  {
   "cell_type": "code",
   "execution_count": null,
   "metadata": {},
   "outputs": [],
   "source": []
  },
  {
   "cell_type": "markdown",
   "metadata": {},
   "source": [
    "## 8. What is the output of the following code??\n",
    "### n = [2, 3, 4]\n",
    "### print(n)"
   ]
  },
  {
   "cell_type": "markdown",
   "metadata": {},
   "source": [
    "### a. 2,3,4\n",
    "### b. 2 3 4\n",
    "### c. [2,3,4]\n",
    "### d. [2 3 4]"
   ]
  },
  {
   "cell_type": "markdown",
   "metadata": {},
   "source": [
    "## Ans(8)= [2,3,4]"
   ]
  },
  {
   "cell_type": "code",
   "execution_count": null,
   "metadata": {},
   "outputs": [],
   "source": []
  },
  {
   "cell_type": "markdown",
   "metadata": {},
   "source": [
    "## 9. What is the output of the following code??\n",
    "### print(3 >= 3)"
   ]
  },
  {
   "cell_type": "markdown",
   "metadata": {},
   "source": [
    "### a. 3 >= 3\n",
    "### b. True\n",
    "### c. False\n",
    "### d. None"
   ]
  },
  {
   "cell_type": "markdown",
   "metadata": {},
   "source": [
    "## Ans(9)= True"
   ]
  },
  {
   "cell_type": "code",
   "execution_count": null,
   "metadata": {},
   "outputs": [],
   "source": []
  },
  {
   "cell_type": "markdown",
   "metadata": {},
   "source": [
    "## 10. The statement using 'and' operator results True if ____?"
   ]
  },
  {
   "cell_type": "markdown",
   "metadata": {},
   "source": [
    "### a. both operands are true\n",
    "### b. both operands are false\n",
    "### c. either of the operands is true\n",
    "### d. first operand is true"
   ]
  },
  {
   "cell_type": "markdown",
   "metadata": {},
   "source": [
    "## Ans(10)= Both operands are true"
   ]
  },
  {
   "cell_type": "code",
   "execution_count": null,
   "metadata": {},
   "outputs": [],
   "source": []
  },
  {
   "cell_type": "markdown",
   "metadata": {},
   "source": [
    "## 11. Remove the correct number form the list x\n",
    "### x=[9,2,8,4,5]\n",
    "### x__?\n",
    "### print(x)\n",
    "### output : [9,2,8,4]"
   ]
  },
  {
   "cell_type": "markdown",
   "metadata": {},
   "source": [
    "## Ans(11)= x.pop()  and  x.remove(5)"
   ]
  },
  {
   "cell_type": "code",
   "execution_count": null,
   "metadata": {},
   "outputs": [],
   "source": []
  },
  {
   "cell_type": "markdown",
   "metadata": {},
   "source": [
    "## 12. What is the output of the following code??\n",
    "### import numpy as np\n",
    "### x=np.array([3,4,True,False,\"5.2\"])\n",
    "### print(x)\n",
    "------------------------------------------"
   ]
  },
  {
   "cell_type": "markdown",
   "metadata": {},
   "source": [
    "#### Select the output :"
   ]
  },
  {
   "cell_type": "markdown",
   "metadata": {},
   "source": [
    "### a. ['3' '4' 'False' 'True' '5.2']\n",
    "### b. [3. 4. 0. 1. 5.2]\n",
    "### c. ['3' '4' 'True' 'False' '5.2']"
   ]
  },
  {
   "cell_type": "markdown",
   "metadata": {},
   "source": [
    "## Ans(12)=  ['3' '4' 'True' 'False' '5.2'] "
   ]
  },
  {
   "cell_type": "code",
   "execution_count": null,
   "metadata": {},
   "outputs": [],
   "source": []
  },
  {
   "cell_type": "markdown",
   "metadata": {},
   "source": [
    "## 13. Which of the following commands does not copy the refrence of the list 'x' to 'y' ??\n",
    "-----------------------------------------"
   ]
  },
  {
   "cell_type": "markdown",
   "metadata": {},
   "source": [
    "### a. y=x\n",
    "### b. None of the options\n",
    "### c. y=list(x)"
   ]
  },
  {
   "cell_type": "markdown",
   "metadata": {},
   "source": [
    "## Ans(13)= y=list(x)"
   ]
  },
  {
   "cell_type": "code",
   "execution_count": null,
   "metadata": {},
   "outputs": [],
   "source": []
  },
  {
   "cell_type": "markdown",
   "metadata": {},
   "source": [
    "## 14. Complete the code to return the output\n",
    "### x=True\n",
    "### print(__(x))\n",
    "--------------------------------\n",
    "#### output : \n",
    "## 1\n",
    "--------------------------------------------------------"
   ]
  },
  {
   "cell_type": "markdown",
   "metadata": {},
   "source": [
    "### a. float\n",
    "### b. num\n",
    "### c. bool\n",
    "### d. int"
   ]
  },
  {
   "cell_type": "markdown",
   "metadata": {},
   "source": [
    "## Ans(14)= int"
   ]
  },
  {
   "cell_type": "code",
   "execution_count": null,
   "metadata": {},
   "outputs": [],
   "source": []
  },
  {
   "cell_type": "markdown",
   "metadata": {},
   "source": [
    "## 15. Complete the code to return the output?\n",
    "### import numpy as np\n",
    "### x=np.array([6,7,6,5])\n",
    "### y=np.array([1,6,7,8])\n",
    "### print(___?(x,y))\n",
    "---------------------------------------\n",
    "#### output :\n",
    "## [[1.         -0.26261287]\n",
    "##  [-0.26261287  1. ]]\n",
    "-----------------------------------------"
   ]
  },
  {
   "cell_type": "markdown",
   "metadata": {},
   "source": [
    "### a. np.corrcoef\n",
    "### b. np.corr\n",
    "### c. np.correlation"
   ]
  },
  {
   "cell_type": "markdown",
   "metadata": {},
   "source": [
    "## Ans(15)= np.corrcoef"
   ]
  },
  {
   "cell_type": "code",
   "execution_count": null,
   "metadata": {},
   "outputs": [],
   "source": []
  },
  {
   "cell_type": "markdown",
   "metadata": {},
   "source": [
    "## 16. select the code to return the output??\n",
    "### [[6]\n",
    "###  [6]]\n",
    "------------------------------------------"
   ]
  },
  {
   "cell_type": "markdown",
   "metadata": {},
   "source": [
    "#### select the code"
   ]
  },
  {
   "cell_type": "markdown",
   "metadata": {},
   "source": [
    "### (a).\n",
    "### import numpy as np\n",
    "###      z=np.array([[6,4,9],[6,1,1]])\n",
    "###      print(z[0:,:1])\n",
    "--------------------------------------"
   ]
  },
  {
   "cell_type": "markdown",
   "metadata": {},
   "source": [
    "### (b).\n",
    "### import numpy as np\n",
    "###      z=np.array([[6,4,9],[6,1,1]])\n",
    "###      print(z[0:,:2])\n",
    "--------------------------------------"
   ]
  },
  {
   "cell_type": "markdown",
   "metadata": {},
   "source": [
    "### (c).\n",
    "### import numpy as np\n",
    "###      z=np.array([[6,4,9],[6,1,1]])\n",
    "###      print(z[0:,1:])"
   ]
  },
  {
   "cell_type": "markdown",
   "metadata": {},
   "source": [
    "## Ans(16)= (A)"
   ]
  },
  {
   "cell_type": "code",
   "execution_count": null,
   "metadata": {},
   "outputs": [],
   "source": []
  },
  {
   "cell_type": "markdown",
   "metadata": {},
   "source": [
    "## 17. Complete the code to return the output?\n",
    "-----------------------------\n",
    "### p=[[\"X\",\"Y\",0],[3,9,6],[\"Z\",15,10]]\n",
    "### print(p[0][__?])\n",
    "### Output : \n",
    "## ['y',0]\n",
    "--------------------------------------"
   ]
  },
  {
   "cell_type": "markdown",
   "metadata": {},
   "source": [
    "### a. 1\n",
    "### b. 0\n",
    "### c. :2\n",
    "### d. 2\n",
    "### e. 1:"
   ]
  },
  {
   "cell_type": "markdown",
   "metadata": {},
   "source": [
    "## Ans(17)= 1:"
   ]
  },
  {
   "cell_type": "code",
   "execution_count": null,
   "metadata": {},
   "outputs": [],
   "source": []
  },
  {
   "cell_type": "markdown",
   "metadata": {},
   "source": [
    "## 18. Complete the code to return the output?\n",
    "### p=['u','w','g','q','r','w']\n",
    "### del(p[__?])\n",
    "### print(p)\n",
    "### Output :\n",
    "### ['u','q','r','w']\n",
    "-------------------------------------------"
   ]
  },
  {
   "cell_type": "markdown",
   "metadata": {},
   "source": [
    "### a. 0\n",
    "### b. 3:5\n",
    "### c. 3\n",
    "### d. 2:4\n",
    "### e. 1:3\n",
    "### f. 6"
   ]
  },
  {
   "cell_type": "markdown",
   "metadata": {},
   "source": [
    "## Ans(18)= [1:3]"
   ]
  },
  {
   "cell_type": "code",
   "execution_count": null,
   "metadata": {},
   "outputs": [],
   "source": []
  },
  {
   "cell_type": "markdown",
   "metadata": {},
   "source": [
    "## 19. Complete the code to return the output?\n",
    "### p=[9,15,5,1,3,13]\n",
    "### print(sorted(p,reverse=_??))\n",
    "### output :\n",
    "### [1,3,5,9,13,15]\n",
    "-------------------------------------------"
   ]
  },
  {
   "cell_type": "markdown",
   "metadata": {},
   "source": [
    "#### fill in the blanks\n",
    "### a. False\n",
    "### b. True\n",
    "### c. ordered\n",
    "### d. p"
   ]
  },
  {
   "cell_type": "markdown",
   "metadata": {},
   "source": [
    "## Ans(19)= False"
   ]
  },
  {
   "cell_type": "code",
   "execution_count": null,
   "metadata": {},
   "outputs": [],
   "source": []
  },
  {
   "cell_type": "markdown",
   "metadata": {},
   "source": [
    "## 20. Complete the code to return the output?\n",
    "### import numpy as np\n",
    "### store=np.array([8,2,1,5])\n",
    "### cost=np.array([80,70,63,84])\n",
    "### np_cols=_____?((store,cost))\n",
    "### print(np_cols)\n",
    "-------------------------------------------\n",
    "#### required output :\n",
    "### [[8 80]\n",
    "###  [2 70]\n",
    "### [1 63]\n",
    "### [5 84]]"
   ]
  },
  {
   "cell_type": "markdown",
   "metadata": {},
   "source": [
    "## Ans(20)= np_cols=np.column_stack((store,cost))"
   ]
  },
  {
   "cell_type": "code",
   "execution_count": null,
   "metadata": {},
   "outputs": [],
   "source": []
  },
  {
   "cell_type": "markdown",
   "metadata": {},
   "source": [
    "## 21. What is the output of the following command??\n",
    "### [1,0,1]+[2,4,6]\n",
    "-------------------------------------------"
   ]
  },
  {
   "cell_type": "markdown",
   "metadata": {},
   "source": [
    "#### output :\n",
    "### a. [3,4,7]\n",
    "### b. 14 \n",
    "### c. [1,0,1,2,4,6]\n",
    "### d. 3"
   ]
  },
  {
   "cell_type": "markdown",
   "metadata": {},
   "source": [
    "## Ans(21)= [1,0,1,2,4,6]"
   ]
  },
  {
   "cell_type": "code",
   "execution_count": null,
   "metadata": {},
   "outputs": [],
   "source": []
  },
  {
   "cell_type": "markdown",
   "metadata": {},
   "source": [
    "## 22. Complete the code to return the output?\n",
    "### # Find the means of the first column of costs\n",
    "-------------------------------------------\n",
    "### import numpy as np\n",
    "### costs=np.column_stack(([1,1,2,1],[5,7,7,5]))\n",
    "### mean_costs=np.mean(costs___??)\n",
    "### print(mean_costs)\n",
    "-------------------------------------------\n",
    "### output ::\n",
    "### 1.25\n",
    "-------------------------------------------"
   ]
  },
  {
   "cell_type": "markdown",
   "metadata": {},
   "source": [
    "#### fill in the blanks\n",
    "### a. [:, 0]\n",
    "### b. [0, :]\n",
    "### c. [1, :]\n",
    "### d. [:, 1]"
   ]
  },
  {
   "cell_type": "markdown",
   "metadata": {},
   "source": [
    "## Ans(22)= Cost[:,0]"
   ]
  },
  {
   "cell_type": "code",
   "execution_count": null,
   "metadata": {},
   "outputs": [],
   "source": []
  },
  {
   "cell_type": "markdown",
   "metadata": {},
   "source": [
    "## 23. Which command opens up the-documentation from inside the IPython shell for the \"len()\" function ??\n",
    "-------------------------------------------"
   ]
  },
  {
   "cell_type": "markdown",
   "metadata": {},
   "source": [
    "#### select the correct answer"
   ]
  },
  {
   "cell_type": "markdown",
   "metadata": {},
   "source": [
    "### a. find(len())\n",
    "### b. help(len)\n",
    "### c. help(len())\n",
    "### d. doc(len())"
   ]
  },
  {
   "cell_type": "markdown",
   "metadata": {},
   "source": [
    "## Ans(23)= help(len)"
   ]
  },
  {
   "cell_type": "code",
   "execution_count": null,
   "metadata": {},
   "outputs": [],
   "source": []
  },
  {
   "cell_type": "markdown",
   "metadata": {},
   "source": [
    "## 24. Complete the code to return the output?\n",
    "### import numpy as np\n",
    "### x=np.array([4,5,6,5,2])\n",
    "### bool_x=x________??3\n",
    "### print(bool_x)\n",
    "-------------------------------------------"
   ]
  },
  {
   "cell_type": "markdown",
   "metadata": {},
   "source": [
    "#### Required output\n",
    "### [True True True True False]"
   ]
  },
  {
   "cell_type": "markdown",
   "metadata": {},
   "source": [
    "## Ans(24)= bool_x=x>=3"
   ]
  },
  {
   "cell_type": "code",
   "execution_count": null,
   "metadata": {},
   "outputs": [],
   "source": []
  },
  {
   "cell_type": "markdown",
   "metadata": {},
   "source": [
    "## 25. Complete the code to return the output?\n",
    "### q=[21,7,19,28,13,25]\n",
    "### print(___??(q))\n",
    "-------------------------------------------\n",
    "### output :: 28\n",
    "-------------------------------------------"
   ]
  },
  {
   "cell_type": "markdown",
   "metadata": {},
   "source": [
    "#### fill in the blanks\n",
    "### a. length\n",
    "### b. maximum\n",
    "### c. min\n",
    "### d. max\n",
    "### e. minimum\n",
    "### f. len"
   ]
  },
  {
   "cell_type": "markdown",
   "metadata": {},
   "source": [
    "## Ans(25)= MAX"
   ]
  },
  {
   "cell_type": "code",
   "execution_count": null,
   "metadata": {},
   "outputs": [],
   "source": []
  },
  {
   "cell_type": "markdown",
   "metadata": {},
   "source": [
    "## 26. Complete the code to return the output?\n",
    "#### Find the standard deviation of x\n",
    "-------------------------------------------\n",
    "### import numpy as np\n",
    "### x=np.array([4.28,2.58,3.38])\n",
    "### print(_______??(x))\n",
    "-------------------------------------------\n",
    "#### Required output ::\n",
    "### 0.6944222218666554"
   ]
  },
  {
   "cell_type": "markdown",
   "metadata": {},
   "source": [
    "## Ans(26)= print(np.std(x))"
   ]
  },
  {
   "cell_type": "code",
   "execution_count": null,
   "metadata": {},
   "outputs": [],
   "source": []
  },
  {
   "cell_type": "markdown",
   "metadata": {},
   "source": [
    "## 27. Complete the code to return the output?\n",
    "-------------------------------------------\n",
    "### Expected output :  [12 2 0]\n",
    "-------------------------------------------\n",
    "#### select the code\n",
    "### (a)\n",
    "### import numpy as np\n",
    "### m=np.array([6,2,4]\n",
    "### n=np.array([2,True,False])\n",
    "### print(m*n)\n",
    "-------------------------------------------\n",
    "### (b)\n",
    "### import numpy as np\n",
    "### m=np.array([6,2,4]\n",
    "### n=np.array([2,True,False])\n",
    "### print(m-n)\n",
    "-------------------------------------------\n",
    "### (c)\n",
    "### import numpy as np\n",
    "### m=np.array([6,2,4]\n",
    "### n=np.array([2,True,False])\n",
    "### print(m+n)"
   ]
  },
  {
   "cell_type": "markdown",
   "metadata": {},
   "source": [
    "## Ans(27)= (A)"
   ]
  },
  {
   "cell_type": "code",
   "execution_count": null,
   "metadata": {},
   "outputs": [],
   "source": []
  },
  {
   "cell_type": "markdown",
   "metadata": {},
   "source": [
    "## 28. Complete the code to return the output?\n",
    "### import numpy as np\n",
    "### x=np.array(['a','z','e','v'])\n",
    "### print(x[___??])\n",
    "-------------------------------------------\n",
    "#### output ::\n",
    "## ['a' 'z' 'e' 'v']\n",
    "-------------------------------------------"
   ]
  },
  {
   "cell_type": "markdown",
   "metadata": {},
   "source": [
    "#### Fill in the blanks\n",
    "### a. 0:2\n",
    "### b. 0:4\n",
    "### c. 1:3\n",
    "### d. 0:3\n",
    "### e. 1:4\n",
    "### f. 2:4"
   ]
  },
  {
   "cell_type": "markdown",
   "metadata": {},
   "source": [
    "## Ans(28)= [0:4]"
   ]
  },
  {
   "cell_type": "code",
   "execution_count": null,
   "metadata": {},
   "outputs": [],
   "source": []
  },
  {
   "cell_type": "markdown",
   "metadata": {},
   "source": [
    "## 29. Complete the code to return the output?\n",
    "\n",
    "### a=[8.7,3.89,8.23]\n",
    "### b=['i','x','y']\n",
    "### c=[3,9,9]\n",
    "### print(____??)\n",
    "-------------------------------------------\n",
    "#### output ::\n",
    "### [[8.7,3.89,8.23],[3,9,9],['i','x','y']]\n",
    "-------------------------------------------"
   ]
  },
  {
   "cell_type": "markdown",
   "metadata": {},
   "source": [
    "#### Fill in the blanks\n",
    "### a. [b,c,a]\n",
    "### b. [a,c,b]"
   ]
  },
  {
   "cell_type": "markdown",
   "metadata": {},
   "source": [
    "## Ans(29)= [a,c,b]"
   ]
  },
  {
   "cell_type": "code",
   "execution_count": null,
   "metadata": {},
   "outputs": [],
   "source": []
  },
  {
   "cell_type": "markdown",
   "metadata": {},
   "source": [
    "## 30. Complete the code to return the output?\n",
    "\n",
    "### x=[1,2,3,4]\n",
    "### y=x\n",
    "### y[1:3]=[5,6]\n",
    "### print(x)\n",
    "-------------------------------------------"
   ]
  },
  {
   "cell_type": "markdown",
   "metadata": {},
   "source": [
    "#### correct answer\n",
    "### a. [1,2,5,6]\n",
    "### b. [5,6,3,4]\n",
    "### c. [1,2,3,4]\n",
    "### d. [1,5,6,4]"
   ]
  },
  {
   "cell_type": "markdown",
   "metadata": {},
   "source": [
    "## Ans(30)= [1,5,6,4]"
   ]
  },
  {
   "cell_type": "code",
   "execution_count": null,
   "metadata": {},
   "outputs": [],
   "source": []
  },
  {
   "cell_type": "markdown",
   "metadata": {},
   "source": [
    "## 31. Complete the code to return the output?\n",
    "\n",
    "### p=[[9,17,11],[10,15,4],[\"X\",\"Y\",12]]\n",
    "### print(p[1][___??])\n",
    "-------------------------------------------\n",
    "#### required output ::\n",
    "### 4"
   ]
  },
  {
   "cell_type": "markdown",
   "metadata": {},
   "source": [
    "## Ans(31)= print(p[1][2])"
   ]
  },
  {
   "cell_type": "code",
   "execution_count": null,
   "metadata": {},
   "outputs": [],
   "source": []
  },
  {
   "cell_type": "markdown",
   "metadata": {},
   "source": [
    "## 32. Complete the code to return the output?\n",
    "\n",
    "### q=[21,7,19,28,13,25]\n",
    "### print(____?(q))\n",
    "------------------------------------------\n",
    "#### required output ::\n",
    "### 28"
   ]
  },
  {
   "cell_type": "markdown",
   "metadata": {},
   "source": [
    "## Ans(32)= print(max(q))"
   ]
  },
  {
   "cell_type": "code",
   "execution_count": null,
   "metadata": {},
   "outputs": [],
   "source": []
  },
  {
   "cell_type": "markdown",
   "metadata": {},
   "source": [
    "## 33. Complete the code to return the output?\n",
    "\n",
    "### import numpy as np\n",
    "### z=np.array([[0,4,15],[26,7,22]])\n",
    "### print(z[0][2])\n",
    "------------------------------------------\n",
    "#### OUTPUT ::"
   ]
  },
  {
   "cell_type": "markdown",
   "metadata": {},
   "source": [
    "## Ans(33)= 15"
   ]
  },
  {
   "cell_type": "code",
   "execution_count": null,
   "metadata": {},
   "outputs": [],
   "source": []
  },
  {
   "cell_type": "markdown",
   "metadata": {},
   "source": [
    "## 34. Complete the code to return the output?\n",
    "\n",
    "### z=\"authorize\"\n",
    "### print(z.____?(\"o\",\"*\"))\n",
    "------------------------------------------\n",
    "#### output ::\n",
    "### auth*rize"
   ]
  },
  {
   "cell_type": "markdown",
   "metadata": {},
   "source": [
    "## Ans(34)= print(z.replace(\"o\",\"*\"))"
   ]
  },
  {
   "cell_type": "code",
   "execution_count": null,
   "metadata": {},
   "outputs": [],
   "source": []
  },
  {
   "cell_type": "markdown",
   "metadata": {},
   "source": [
    "## 35. Complete the code to return the output?\n",
    "------------------------------------------\n",
    "### [6,10,14,2,6,18]\n",
    "------------------------------------------"
   ]
  },
  {
   "cell_type": "markdown",
   "metadata": {},
   "source": [
    "#### Select the code\n",
    "### (a)\n",
    "### x=[6,10,14,2,6,18,17]\n",
    "### print(x[0:4])\n",
    "------------------------------------------\n",
    "### (b)\n",
    "### x=[6,10,14,2,6,18,17]\n",
    "### print(x[2:5])\n",
    "------------------------------------------\n",
    "### (c)\n",
    "### x=[6,10,14,2,6,18,17]\n",
    "### print(x[0:6])"
   ]
  },
  {
   "cell_type": "markdown",
   "metadata": {},
   "source": [
    "## Ans(35)= (C)"
   ]
  },
  {
   "cell_type": "code",
   "execution_count": null,
   "metadata": {},
   "outputs": [],
   "source": []
  },
  {
   "cell_type": "markdown",
   "metadata": {},
   "source": [
    "## 36. Complete the code to return the output?\n",
    "### x=8\n",
    "### y=9\n",
    "### z=2\n",
    "### print(____??)\n",
    "------------------------------------------\n",
    "#### output ::\n",
    "### [2,9,8]\n",
    "------------------------------------------"
   ]
  },
  {
   "cell_type": "markdown",
   "metadata": {},
   "source": [
    "#### fill in the blanks\n",
    "### a. [z,y,x]\n",
    "### b. [x,y,z]"
   ]
  },
  {
   "cell_type": "markdown",
   "metadata": {},
   "source": [
    "## Ans(36)= [z,y,x]"
   ]
  },
  {
   "cell_type": "code",
   "execution_count": null,
   "metadata": {},
   "outputs": [],
   "source": []
  },
  {
   "cell_type": "markdown",
   "metadata": {},
   "source": [
    "## 37. Complete the code to return the output?\n",
    "### y=\"python is a general purpose progamming language\"\n",
    "### print(y__________??)\n",
    "------------------------------------------\n",
    "#### required output ::\n",
    "### Python is a general purpose programming language"
   ]
  },
  {
   "cell_type": "markdown",
   "metadata": {},
   "source": [
    "## Ans(37)= print(y.capitalize())"
   ]
  },
  {
   "cell_type": "code",
   "execution_count": null,
   "metadata": {},
   "outputs": [],
   "source": []
  },
  {
   "cell_type": "markdown",
   "metadata": {},
   "source": [
    "## 38. Complete the code to return the output?\n",
    "------------------------------------------\n",
    "### import numpy as np\n",
    "### store=np.array([\"X\",\"X\",\"Y\",\"Y\"])\n",
    "### cost=np.array([7,9,2,9])\n",
    "### select_cost=cost[store_______?? \"Z\"]\n",
    "### print(select_cost)\n",
    "------------------------------------------\n",
    "#### required output ::\n",
    "### [7 9 2 9]"
   ]
  },
  {
   "cell_type": "markdown",
   "metadata": {},
   "source": [
    "## Ans(38)= select_cost=cost[store!=\"Z\"]"
   ]
  },
  {
   "cell_type": "code",
   "execution_count": null,
   "metadata": {},
   "outputs": [],
   "source": []
  },
  {
   "cell_type": "markdown",
   "metadata": {},
   "source": [
    "## 39. What is the output pf this code??\n",
    "-----------------------------------------\n",
    "### import numpy as np\n",
    "### m=np.array([2,6,4])\n",
    "### n=np.array([2,True,False])\n",
    "### print(m**n)\n",
    "---------------------------------------\n",
    "#### output ::"
   ]
  },
  {
   "cell_type": "markdown",
   "metadata": {},
   "source": [
    "## Ans(39)= [4 6 1]"
   ]
  },
  {
   "cell_type": "code",
   "execution_count": null,
   "metadata": {},
   "outputs": [],
   "source": []
  },
  {
   "cell_type": "markdown",
   "metadata": {},
   "source": [
    "## 40. Complete the code to return the output?\n",
    "---------------------------------------\n",
    "### q=8.43999\n",
    "### print(round(q,______??))\n",
    "-----------------------------------------\n",
    "#### required output ::\n",
    "## 8.4"
   ]
  },
  {
   "cell_type": "markdown",
   "metadata": {},
   "source": [
    "## Ans(40)= print(round(q,1))"
   ]
  },
  {
   "cell_type": "code",
   "execution_count": null,
   "metadata": {},
   "outputs": [],
   "source": []
  },
  {
   "cell_type": "markdown",
   "metadata": {},
   "source": [
    "## 41. Complete the code to return the output?\n",
    "---------------------------------------\n",
    "### import numpy as np\n",
    "### x=np.array(['m','c','c','z'])\n",
    "### print(x[__??])\n",
    "----------------------------------------\n",
    "#### output ::\n",
    "## ['c','c']\n"
   ]
  },
  {
   "cell_type": "markdown",
   "metadata": {},
   "source": [
    "## Ans(41)= print(x[1:3])"
   ]
  },
  {
   "cell_type": "code",
   "execution_count": null,
   "metadata": {},
   "outputs": [],
   "source": []
  },
  {
   "cell_type": "markdown",
   "metadata": {},
   "source": [
    "## 42. Complete the code to return the output?\n",
    "----------------------------------------\n",
    "### p=4\n",
    "### q='the valuye of p is :'\n",
    "### print(q+str(_____??))\n",
    "----------------------------------------\n",
    "#### output ::\n",
    "### the value of p is : 4\n",
    "--------------------------------------"
   ]
  },
  {
   "cell_type": "markdown",
   "metadata": {},
   "source": [
    "#### fill in the blanks\n",
    "### a. 'q'\n",
    "### b. p\n",
    "### c. 'p'\n",
    "### d. q"
   ]
  },
  {
   "cell_type": "markdown",
   "metadata": {},
   "source": [
    "## Ans(42)=  print(q+str(p)) "
   ]
  },
  {
   "cell_type": "code",
   "execution_count": null,
   "metadata": {},
   "outputs": [],
   "source": []
  },
  {
   "cell_type": "markdown",
   "metadata": {},
   "source": [
    "## 43. What are the optional argument to the function 'function_1()' ??\n"
   ]
  },
  {
   "cell_type": "markdown",
   "metadata": {},
   "source": [
    "------------------------------------------\n",
    "### function_1(r1,q,p=None,r2=None)"
   ]
  },
  {
   "cell_type": "markdown",
   "metadata": {},
   "source": [
    "## Ans(43)= \"P\" and \"r2\" are the optional argument"
   ]
  },
  {
   "cell_type": "markdown",
   "metadata": {},
   "source": [
    "## 44. Complete the code to return the output?\n",
    "-----------------------------------------\n",
    "### a=[4.72,6.77,3.51]\n",
    "### b=['y','v','c']\n",
    "### c=[7,3,3]\n",
    "### print(_____??)\n",
    "------------------------------------------\n",
    "#### output ::\n",
    "### [[7,3,3],['y','v','c'],[4.72,6.77,3.51]]"
   ]
  },
  {
   "cell_type": "markdown",
   "metadata": {},
   "source": [
    "## Ans(44)=  [c,b,a]"
   ]
  },
  {
   "cell_type": "code",
   "execution_count": null,
   "metadata": {},
   "outputs": [],
   "source": []
  },
  {
   "cell_type": "markdown",
   "metadata": {},
   "source": [
    "## 45. What is the output of this code??\n",
    "------------------------------------------\n",
    "### x=[9,14,9,19,12,11,12]\n",
    "### print(x[2:6])"
   ]
  },
  {
   "cell_type": "markdown",
   "metadata": {},
   "source": [
    "## Ans(45)=  [9,19,12,11]"
   ]
  },
  {
   "cell_type": "code",
   "execution_count": null,
   "metadata": {},
   "outputs": [],
   "source": []
  }
 ],
 "metadata": {
  "kernelspec": {
   "display_name": "Python 3",
   "language": "python",
   "name": "python3"
  },
  "language_info": {
   "codemirror_mode": {
    "name": "ipython",
    "version": 3
   },
   "file_extension": ".py",
   "mimetype": "text/x-python",
   "name": "python",
   "nbconvert_exporter": "python",
   "pygments_lexer": "ipython3",
   "version": "3.7.4"
  }
 },
 "nbformat": 4,
 "nbformat_minor": 4
}
